{
 "cells": [
  {
   "cell_type": "markdown",
   "id": "e283aa3e",
   "metadata": {},
   "source": [
    "Build an online bookstore with 3 classes for books, customers, and orders. • Implement functions such as browsing books, adding them to a cart, and completing orders. Print the result with print(). • You can also include functionality for managing inventory books"
   ]
  },
  {
   "cell_type": "code",
   "execution_count": 1,
   "id": "f06901de",
   "metadata": {},
   "outputs": [
    {
     "name": "stdout",
     "output_type": "stream",
     "text": [
      "Shopping Cart:\n",
      "The Great Gatsby by F. Scott Fitzgerald - $15.99\n",
      "To Kill a Mockingbird by Harper Lee - $12.99\n",
      "1984 by George Orwell - $10.99\n",
      "Order 1 completed. Total: $39.97\n"
     ]
    }
   ],
   "source": [
    "class Book:\n",
    "    def __init__(self, book_id, title, author, price, quantity):\n",
    "        self.book_id = book_id\n",
    "        self.title = title\n",
    "        self.author = author\n",
    "        self.price = price\n",
    "        self.quantity = quantity\n",
    "\n",
    "    def display_info(self):\n",
    "        return f\"{self.title} by {self.author} - ${self.price}\"\n",
    "\n",
    "class Customer:\n",
    "    def __init__(self, customer_id, name, email):\n",
    "        self.customer_id = customer_id\n",
    "        self.name = name\n",
    "        self.email = email\n",
    "        self.cart = []\n",
    "\n",
    "    def add_to_cart(self, book):\n",
    "        self.cart.append(book)\n",
    "\n",
    "    def view_cart(self):\n",
    "        return [book.display_info() for book in self.cart]\n",
    "\n",
    "class Order:\n",
    "    def __init__(self, order_id, customer, books):\n",
    "        self.order_id = order_id\n",
    "        self.customer = customer\n",
    "        self.books = books\n",
    "\n",
    "    def calculate_total(self):\n",
    "        return sum(book.price for book in self.books)\n",
    "\n",
    "    def complete_order(self):\n",
    "        # Assuming some order completion logic here\n",
    "        print(f\"Order {self.order_id} completed. Total: ${self.calculate_total()}\")\n",
    "\n",
    "# Example Usage\n",
    "if __name__ == \"__main__\":\n",
    "    # Create books\n",
    "    book1 = Book(1, \"The Great Gatsby\", \"F. Scott Fitzgerald\", 15.99, 10)\n",
    "    book2 = Book(2, \"To Kill a Mockingbird\", \"Harper Lee\", 12.99, 15)\n",
    "    book3 = Book(3, \"1984\", \"George Orwell\", 10.99, 20)\n",
    "\n",
    "    # Create a customer\n",
    "    customer = Customer(1, \"John Doe\", \"john@example.com\")\n",
    "\n",
    "    # Customer adds books to the cart\n",
    "    customer.add_to_cart(book1)\n",
    "    customer.add_to_cart(book2)\n",
    "    customer.add_to_cart(book3)\n",
    "\n",
    "    # Display cart\n",
    "    print(\"Shopping Cart:\")\n",
    "    for item in customer.view_cart():\n",
    "        print(item)\n",
    "\n",
    "    # Create an order\n",
    "    order = Order(1, customer, customer.cart)\n",
    "\n",
    "    # Complete the order\n",
    "    order.complete_order()\n"
   ]
  },
  {
   "cell_type": "code",
   "execution_count": null,
   "id": "161ab9ca",
   "metadata": {},
   "outputs": [],
   "source": []
  }
 ],
 "metadata": {
  "kernelspec": {
   "display_name": "Python 3 (ipykernel)",
   "language": "python",
   "name": "python3"
  },
  "language_info": {
   "codemirror_mode": {
    "name": "ipython",
    "version": 3
   },
   "file_extension": ".py",
   "mimetype": "text/x-python",
   "name": "python",
   "nbconvert_exporter": "python",
   "pygments_lexer": "ipython3",
   "version": "3.11.5"
  }
 },
 "nbformat": 4,
 "nbformat_minor": 5
}
